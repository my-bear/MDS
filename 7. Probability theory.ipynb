{
 "cells": [
  {
   "cell_type": "code",
   "execution_count": 158,
   "metadata": {},
   "outputs": [],
   "source": [
    "import matplotlib.pyplot as plt\n",
    "import numpy as np\n",
    "import math"
   ]
  },
  {
   "cell_type": "markdown",
   "metadata": {},
   "source": [
    "#### Задание 1.  \n",
    "Монетку подбрасывают 15 раз, найдите вероятность выпадения простого числа орлов."
   ]
  },
  {
   "cell_type": "code",
   "execution_count": 154,
   "metadata": {},
   "outputs": [
    {
     "name": "stdout",
     "output_type": "stream",
     "text": [
      "Вероятность: 35.0 %\n"
     ]
    }
   ],
   "source": [
    "# Количество бросков\n",
    "n = 15\n",
    "P = 0\n",
    "for k in (2,3,5,7,11,13):\n",
    "#     Формула Бернули\n",
    "    P += math.factorial(n)/(math.factorial(k)*math.factorial(n-k))\n",
    "print(f'Вероятность: {round(P * 100 / 2**n, 0)} %')"
   ]
  },
  {
   "cell_type": "markdown",
   "metadata": {},
   "source": [
    "#### Задание 2.  \n",
    "Создайте свою дискретную случайную величину с не менее, чем 10 значениями.   \n",
    "Просемплируйте 1000 случайных значений, постройте гистограмму плотности распределения по выборке, \n",
    "посчитайте среднее, дисперсию и медиану."
   ]
  },
  {
   "cell_type": "code",
   "execution_count": 162,
   "metadata": {},
   "outputs": [],
   "source": [
    "random_value = np.random.randint(11, size=1000)"
   ]
  },
  {
   "cell_type": "code",
   "execution_count": 163,
   "metadata": {},
   "outputs": [
    {
     "data": {
      "image/png": "[encoded data removed]",
      "text/plain": [
       "<Figure size 432x288 with 1 Axes>"
      ]
     },
     "metadata": {
      "needs_background": "light"
     },
     "output_type": "display_data"
    }
   ],
   "source": [
    "plt.hist(random_value, bins=10)\n",
    "plt.show()"
   ]
  },
  {
   "cell_type": "code",
   "execution_count": 164,
   "metadata": {},
   "outputs": [
    {
     "name": "stdout",
     "output_type": "stream",
     "text": [
      "3.341 3.0 5.400719000000001\n"
     ]
    }
   ],
   "source": [
    "print(np.mean(result), np.median(result), np.var(result))"
   ]
  },
  {
   "cell_type": "markdown",
   "metadata": {},
   "source": [
    "#### Задание 3.\n",
    "\n",
    "Пусть брошены 3 уравновешенные монеты. Рассмотрим 3 события:\n",
    "\n",
    "$A_1$ - монеты 1 и 2 упали одной и той же стороной,\n",
    "\n",
    "$A_2$ - монеты 2 и 3 упали одной и той же стороной,\n",
    "\n",
    "$A_3$ - монеты 1 и 3 упали одной и той же стороной.\n",
    "\n",
    "Покажите, почему эти 3 события являются попарно независимыми, но <b>не</b> являются независимыми в совокупности."
   ]
  },
  {
   "cell_type": "markdown",
   "metadata": {},
   "source": [
    "________"
   ]
  },
  {
   "cell_type": "markdown",
   "metadata": {},
   "source": [
    "Распределения каждой случайной величины по отдельности равны:F_X(0)=F_Y(0)=F_Z(0)=1/2 и F_X(1)=F_Y(1)=F_Z(1)=1/2 "
   ]
  },
  {
   "cell_type": "markdown",
   "metadata": {},
   "source": [
    "Распределения пар случайных величин равны $F_X,_Y,_Z(x,y,z) = 1/4$"
   ]
  },
  {
   "cell_type": "markdown",
   "metadata": {},
   "source": [
    "События А1, А2 и А3 попарно независимы поскольку совместная вероятность каждого из входящих \n",
    "в событие исходов равна произведению вероятностей соответствующих им попарных исходов."
   ]
  },
  {
   "cell_type": "markdown",
   "metadata": {},
   "source": [
    "X, Y и Z не являются независимыми в совокупности, поскольку $F_X,_Y,_Z(x,y,z) \\neq F_X(x)F_Y(y)F_Z(z)$"
   ]
  },
  {
   "cell_type": "markdown",
   "metadata": {},
   "source": [
    "Для (X, Y, Z)=(0, 0, 0) левая часть равна $F_X,_Y,_Z(x,y,z) = 1/4$,а правая  $F_X(x)F_Y(y)F_Z(z) =1/8$"
   ]
  },
  {
   "cell_type": "markdown",
   "metadata": {},
   "source": [
    "События А1, А2 и А3 не являются независимыми в совокупности поскольку совместная вероятность трех исходов (по-прежнему равна 1/4, каждое событие одноздачно определяются двумя исходами) не равна произведению вероятностей каждого из исходов (1/8)."
   ]
  },
  {
   "cell_type": "markdown",
   "metadata": {},
   "source": [
    "#### Задание 4.\n",
    "\n",
    "В магазин привезли устройства с 3-х разных предприятий. \n",
    "\n",
    "Соотношение устройств следующее: 20% - продукция первого предприятия, 30% - продукция второго предприятия, 50% - продукция третьего предприятия; далее, 10% продукции первого предприятия высшего сорта, на втором предприятии - 5% и на третьем - 20% продукции высшего сорта."
   ]
  },
  {
   "cell_type": "markdown",
   "metadata": {},
   "source": [
    "Найти вероятность того, что случайно купленная новая продукция окажется высшего сорта."
   ]
  },
  {
   "cell_type": "code",
   "execution_count": 172,
   "metadata": {},
   "outputs": [
    {
     "data": {
      "text/plain": [
       "0.135"
      ]
     },
     "execution_count": 172,
     "metadata": {},
     "output_type": "execute_result"
    }
   ],
   "source": [
    "0.2 * 0.1 + 0.3 * 0.05 + 0.5 * 0.2"
   ]
  },
  {
   "cell_type": "code",
   "execution_count": null,
   "metadata": {},
   "outputs": [],
   "source": []
  }
 ],
 "metadata": {
  "kernelspec": {
   "display_name": "Python 3",
   "language": "python",
   "name": "python3"
  },
  "language_info": {
   "codemirror_mode": {
    "name": "ipython",
    "version": 3
   },
   "file_extension": ".py",
   "mimetype": "text/x-python",
   "name": "python",
   "nbconvert_exporter": "python",
   "pygments_lexer": "ipython3",
   "version": "3.8.5"
  }
 },
 "nbformat": 4,
 "nbformat_minor": 4
}
